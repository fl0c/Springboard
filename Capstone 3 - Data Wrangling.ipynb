{
 "cells": [
  {
   "cell_type": "markdown",
   "id": "d9b4d535",
   "metadata": {},
   "source": [
    "# Data Cleaning for Government Land Sale Notices"
   ]
  },
  {
   "cell_type": "code",
   "execution_count": 101,
   "id": "92eac00f",
   "metadata": {},
   "outputs": [],
   "source": [
    "# Import modules and packages\n",
    "import nltk\n",
    "import pandas as pd\n",
    "import re\n",
    "import string\n",
    "import numpy as np\n",
    "from sklearn.feature_extraction.text import TfidfVectorizer\n",
    "from nltk.tokenize import word_tokenize\n",
    "from nltk.corpus import stopwords"
   ]
  },
  {
   "cell_type": "code",
   "execution_count": 98,
   "id": "e81030d1",
   "metadata": {},
   "outputs": [],
   "source": [
    "#nltk.download()\n",
    "#print(nltk.__version__)\n",
    "#dir(nltk)"
   ]
  },
  {
   "cell_type": "markdown",
   "id": "0ab35923",
   "metadata": {},
   "source": [
    "Source: Bird, Steven, Edward Loper and Ewan Klein (2009), Natural Language Processing with Python. O’Reilly Media Inc."
   ]
  },
  {
   "cell_type": "markdown",
   "id": "8ba1f84c",
   "metadata": {},
   "source": [
    "## Read in Text"
   ]
  },
  {
   "cell_type": "code",
   "execution_count": 102,
   "id": "f60db50d",
   "metadata": {},
   "outputs": [],
   "source": [
    "# load data\n",
    "filename = 'RBL1203.txt'\n",
    "file = open(filename, 'rt')\n",
    "text = file.read()\n",
    "file.close()\n",
    "\n",
    "def clean_text(text):\n",
    "    # split into words\n",
    "    tokens = word_tokenize(text)\n",
    "    # convert to lower case\n",
    "    tokens = [w.lower() for w in tokens]\n",
    "    # remove punctuation from each word\n",
    "    table = str.maketrans('', '', string.punctuation)\n",
    "    stripped = [w.translate(table) for w in tokens]\n",
    "    # remove remaining tokens that are not alphabetic\n",
    "    words = [word for word in stripped if word.isalpha()]\n",
    "    # filter out stop words\n",
    "    stop_words = set(stopwords.words('english'))\n",
    "    words = [w for w in words if not w in stop_words]\n",
    "    return words\n",
    "\n",
    "# print(words[:100])\n",
    "# Convert to df\n",
    "#df_words = pd.DataFrame(words, columns = [filename])\n",
    "#print(df_words)\n"
   ]
  },
  {
   "cell_type": "markdown",
   "id": "309b01ad",
   "metadata": {},
   "source": [
    "## Apply TfidfVectorizer"
   ]
  },
  {
   "cell_type": "code",
   "execution_count": 103,
   "id": "6392a066",
   "metadata": {},
   "outputs": [
    {
     "name": "stdout",
     "output_type": "stream",
     "text": [
      "(13126, 1329)\n",
      "['absence', 'absolute', 'absolutely', 'absorbing', 'accept', 'accepted', 'accepts', 'access', 'accmmnodating', 'accommodating', 'accommodation', 'accord', 'accordance', 'account', 'acknowledgement', 'acknowledges', 'acoustic', 'across', 'act', 'actions', 'activities', 'adapted', 'addition', 'additional', 'adequate', 'adjacent', 'adjoining', 'administrative', 'advance', 'advanced', 'advances', 'adverse', 'adversely', 'advertising', 'affect', 'affected', 'affecting', 'affixed', 'aforesaid', 'agent', 'agents', 'aggregate', 'agreed', 'agreement', 'agrees', 'aids', 'air', 'airconditioning', 'alienation', 'aligmnents', 'alignment', 'alignments', 'allocate', 'allocated', 'allow', 'along', 'already', 'also', 'alter', 'alteration', 'alterations', 'altered', 'alternatively', 'amending', 'amendment', 'amendments', 'amenities', 'amiexed', 'among', 'amongst', 'amount', 'amounts', 'amr', 'analyzing', 'anchor', 'anchors', 'ancillary', 'animal', 'annexed', 'antecedent', 'anybody', 'applicable', 'apply', 'applying', 'appointed', 'appointment', 'apportioned', 'appropriate', 'approval', 'approve', 'approved', 'approximate', 'aqd', 'area', 'areas', 'arise', 'arising', 'arrangement', 'ascertain', 'ascertaining', 'asp', 'aspects', 'assessment', 'assign', 'assigned', 'assignees', 'assignment', 'associated', 'attachment', 'attorney', 'audit', 'authority', 'authorized', 'automatic', 'available', 'avoid', 'avoidance', 'away', 'b', 'back', 'balance', 'balcony', 'banier', 'baniers', 'bank', 'banking', 'barrier', 'barriers', 'base', 'beauty', 'behalf', 'benefit', 'beyond', 'binding', 'black', 'block', 'blocks', 'blue', 'body', 'boiler', 'bona', 'boundaries', 'boundary', 'breach', 'brown', 'building', 'buildings', 'buildingup', 'built', 'byelaws', 'c', 'cable', 'caitied', 'caity', 'caitying', 'calculated', 'calculating', 'calculation', 'calendar', 'call', 'cany', 'cap', 'car', 'care', 'caretakers', 'carried', 'carry', 'carrying', 'case', 'catcher', 'catchpit', 'catchpits', 'cause', 'caused', 'causing', 'cease', 'centre', 'certified', 'change', 'channel', 'channels', 'charge', 'charged', 'charges', 'chartered', 'checking', 'chimney', 'cinerary', 'circulation', 'civil', 'claim', 'claims', 'clause', 'clauses', 'clean', 'cleaning', 'clear', 'closure', 'collectively', 'coloured', 'columbarium', 'columns', 'commence', 'commenced', 'commencement', 'commissioned', 'commissioner', 'committee', 'common', 'communal', 'company', 'compensation', 'compensatory', 'complete', 'completed', 'completion', 'compliance', 'complied', 'complies', 'comply', 'complying', 'comprise', 'comprises', 'concession', 'conclusive', 'condition', 'conditional', 'conditioning', 'conditions', 'confer', 'conferred', 'configuration', 'conformity', 'connected', 'connecting', 'connection', 'consent', 'consequent', 'consider', 'consideration', 'considers', 'constitute', 'constitutes', 'construct', 'constructed', 'construction', 'construed', 'contain', 'contained', 'containing', 'contammg', 'contemplated', 'continue', 'continuous', 'contractor', 'contractors', 'contracts', 'contravene', 'convey', 'copy', 'copying', 'corporate', 'corporation', 'corridor', 'cost', 'costs', 'covenant', 'cover', 'covered', 'covering', 'crushing', 'culvert', 'curtain', 'cut', 'cutting', 'cycle', 'cycles', 'damage', 'damages', 'date', 'dates', 'day', 'days', 'dealing', 'debris', 'decide', 'decided', 'decides', 'deciding', 'decimal', 'decision', 'deed', 'deem', 'deemed', 'defined', 'definition', 'delineated', 'delivered', 'demand', 'demands', 'demolish', 'demolished', 'demolishing', 'demolition', 'demonstrating', 'department', 'departments', 'deposit', 'deposited', 'deposittaking', 'description', 'design', 'designate', 'designated', 'detached', 'details', 'detennination', 'detennine', 'detennined', 'determination', 'determine', 'determined', 'develop', 'developed', 'developing', 'development', 'dia', 'diameter', 'dimension', 'dimensions', 'direct', 'directly', 'director', 'dirnctor', 'disabled', 'discharge', 'discipline', 'disclose', 'disclosure', 'discretion', 'display', 'disposal', 'dispose', 'disposed', 'disposition', 'disrupt', 'disseminate', 'disseminating', 'dissemination', 'distance', 'disturb', 'disturbance', 'diversion', 'divert', 'diverted', 'dmc', 'document', 'done', 'doubt', 'drain', 'drainage', 'drains', 'dsign', 'duct', 'duly', 'dumped', 'dumping', 'duplex', 'e', 'earth', 'earthenware', 'earthretaining', 'ection', 'edged', 'effect', 'egress', 'either', 'electronic', 'elects', 'element', 'elements', 'emergency', 'employed', 'enclosing', 'encroach', 'encroaching', 'enforce', 'engineer', 'engineering', 'engineers', 'enjoyed', 'enjoyment', 'enquiries', 'enquiry', 'ensure', 'enter', 'entered', 'entering', 'entitled', 'entry', 'environmental', 'environmentally', 'equal', 'equipment', 'erect', 'erected', 'erection', 'eroded', 'erosion', 'essential', 'etc', 'even', 'event', 'every', 'everything', 'exact', 'excavated', 'excavation', 'exceed', 'exceeding', 'except', 'excess', 'excessive', 'exclude', 'excluded', 'excluding', 'exclusion', 'exclusive', 'exclusively', 'execute', 'execution', 'exempted', 'exercise', 'exhibiting', 'existence', 'existing', 'expense', 'expenses', 'expiry', 'express', 'expression', 'expressly', 'extend', 'extending', 'extension', 'extents', 'exterior', 'external', 'f', 'face', 'faces', 'facilitate', 'facilitating', 'facilities', 'fail', 'fails', 'failure', 'fainily', 'fall', 'falling', 'falls', 'family', 'favour', 'feature', 'features', 'fee', 'fees', 'fences', 'fide', 'fillingin', 'fin', 'final', 'finn', 'firm', 'first', 'fit', 'fixed', 'flats', 'flexibility', 'floor', 'floors', 'flowing', 'flushing', 'following', 'fonn', 'fonnation', 'fonned', 'fonning', 'footpath', 'force', 'foreshore', 'form', 'formation', 'formed', 'forming', 'forms', 'formula', 'fort', 'forthwith', 'foulwater', 'foundation', 'fourteen', 'free', 'fresh', 'friendly', 'fulfilling', 'fulfilment', 'full', 'fully', 'function', 'funnel', 'furniture', 'future', 'g', 'garden', 'gardens', 'general', 'generality', 'geotechnical', 'give', 'given', 'gives', 'giving', 'good', 'goods', 'govenunent', 'govermnent', 'government', 'governmj', 'gradient', 'grant', 'granted', 'granting', 'grave', 'greater', 'green', 'greenery', 'greening', 'gross', 'ground', 'group', 'growing', 'guarantee', 'h', 'handed', 'handing', 'handover', 'hatched', 'headroom', 'healthy', 'heating', 'height', 'hereafter', 'hereby', 'herein', 'hereinafter', 'hereinbefore', 'hereof', 'hereto', 'hold', 'hong', 'horizontal', 'house', 'houses', 'however', 'howsoever', 'human', 'hydrant', 'ii', 'iii', 'il', 'illegal', 'impact', 'impacts', 'implement', 'implied', 'impose', 'imposed', 'improvement', 'incidental', 'include', 'including', 'incorporating', 'increase', 'increased', 'incurred', 'indemnified', 'indemnify', 'indemnity', 'indicated', 'indicating', 'indirect', 'indirectly', 'individual', 'infonnation', 'information', 'ingress', 'injury', 'innovative', 'inspect', 'inspecting', 'inspection', 'install', 'installation', 'installations', 'installed', 'institution', 'integrate', 'integrated', 'integration', 'intellectual', 'intended', 'intercept', 'interest', 'interfere', 'interfered', 'interference', 'internal', 'interred', 'invert', 'investigations', 'iri', 'irrevocably', 'issue', 'iv', 'ix', 'j', 'jars', 'june', 'k', 'keep', 'kind', 'known', 'kong', 'l', 'laid', 'land', 'landings', 'landscape', 'landscaped', 'landscaping', 'landslide', 'landslip', 'lanes', 'larger', 'lay', 'laying', 'layout', 'lease', 'leased', 'legal', 'legislation', 'legislatiori', 'length', 'less', 'lessee', 'lessen', 'lesser', 'letter', 'letters', 'level', 'levelling', 'levels', 'liabilities', 'liability', 'liable', 'licensed', 'licensees', 'life', 'lift', 'lifts', 'lighting', 'limit', 'limitation', 'limited', 'limits', 'line', 'lines', 'listed', 'loading', 'lobby', 'located', 'location', 'locations', 'loss', 'losses', 'lot', 'lots', 'machinery', 'made', 'main', 'mains', 'maintain', 'maintained', 'maintaining', 'maintammg', 'maintenance', 'make', 'making', 'management', 'manager', 'manner', 'manoeuvring', 'marked', 'marketing', 'material', 'materials', 'maximum', 'may', 'mean', 'means', 'measure', 'measured', 'measurement', 'measures', 'media', 'meet', 'meetings', 'member', 'members', 'memorial', 'mentioned', 'meter', 'method', 'metre', 'metres', 'middle', 'miisance', 'millimetres', 'minimum', 'mistake', 'mitigation', 'modification', 'modify', 'modifying', 'money', 'monies', 'monitoring', 'months', 'mortgage', 'mortgaged', 'mortgagee', 'motor', 'must', 'mutual', 'n', 'nails', 'nature', 'nearest', 'neat', 'necessarily', 'necessary', 'neglect', 'new', 'next', 'nia', 'nof', 'noise', 'nominee', 'non', 'nonbuilding', 'nonbuildings', 'noncompliance', 'none', 'nonessential', 'nonfulfilment', 'nonmandatory', 'nonobservance', 'nonperformance', 'nonstructural', 'nos', 'nothing', 'notice', 'notices', 'notwithstanding', 'nt', 'nuisance', 'nullah', 'nullahs', 'number', 'numbers', 'object', 'objection', 'objects', 'obligations', 'obliged', 'observance', 'observed', 'obstruct', 'obstruction', 'obtain', 'obtained', 'obtaining', 'obviate', 'occasioned', 'occupation', 'occupied', 'occupiers', 'occurring', 'occurs', 'ofb', 'office', 'officers', 'oflive', 'ofresidential', 'omission', 'one', 'onto', 'opened', 'operate', 'operated', 'operating', 'operation', 'operational', 'opinion', 'option', 'orange', 'ordinance', 'ordinances', 'organization', 'orleased', 'oter', 'others', 'otherwise', 'outer', 'outlet', 'outside', 'outstation', 'outstations', 'overall', 'overhead', 'owing', 'owner', 'owners', 'paid', 'paii', 'parapet', 'parcel', 'park', 'parked', 'parking', 'part', 'particular', 'particularly', 'particulars', 'parties', 'partition', 'partitioned', 'partitioning', 'partitions', 'parts', 'party', 'pass', 'passage', 'paved', 'paving', 'pay', 'payable', 'payment', 'pecked', 'penetrating', 'pennit', 'performance', 'perimeter', 'perimeters', 'period', 'permeability', 'permission', 'permit', 'permitted', 'person', 'persons', 'pertaining', 'physical', 'piece', 'pink', 'pipe', 'place', 'placed', 'plan', 'planning', 'plans', 'plant', 'planted', 'planting', 'plants', 'platfonn', 'platfonns', 'platform', 'plumbing', 'pnntmg', 'podium', 'points', 'portion', 'portions', 'position', 'positions', 'possession', 'posters', 'power', 'powers', 'precautions', 'prefabricated', 'prejudice', 'premium', 'presence', 'present', 'preservation', 'prestressed', 'prevent', 'prevention', 'preventive', 'price', 'printing', 'prior', 'private', 'proceedings', 'procure', 'procured', 'professional', 'project', 'projected', 'projecting', 'projection', 'projections', 'projects', 'proper', 'properties', 'property', 'proposal', 'proposals', 'proposed', 'prorata', 'protect', 'protection', 'provide', 'provided', 'provides', 'providing', 'provision', 'provisioning', 'provisions', 'public', 'purchase', 'purchased', 'purchaser', 'purple', 'purports', 'purpose', 'purposes', 'pursuant', 'put', 'quarters', 'rack', 'rainwater', 'raised', 'ramp', 'rate', 'rates', 'rbl', 'reading', 'reason', 'reasonable', 'receipt', 'received', 'recommendations', 'recreational', 'rectify', 'red', 'redevelopment', 'reduce', 'reduced', 'reduction', 'refened', 'reference', 'references', 'referred', 'refers', 'refetted', 'reflector', 'refusal', 'refuse', 'regarded', 'registered', 'registration', 'registry', 'regress', 'regular', 'regulations', 'reinstate', 'reinstatement', 'reinstating', 'related', 'relates', 'relating', 'relation', 'relay', 'relaying', 'release', 'released', 'relevant', 'relieve', 'remained', 'remaining', 'remains', 'remedial', 'remedies', 'removal', 'remove', 'removed', 'removing', 'renew', 'renewal', 'renewed', 'renewing', 'rent', 'repair', 'repaired', 'repairing', 'repamng', 'repass', 'repay', 'replace', 'replaced', 'replacement', 'replacing', 'replanting', 'reports', 'reprovision', 'reprovisioning', 'request', 'require', 'required', 'requirements', 'requiring', 'researching', 'reservation', 'reserve', 'reserved', 'residence', 'residences', 'resident', 'residential', 'residents', 'respect', 'respective', 'respectively', 'respects', 'response', 'responsibilities', 'responsibility', 'responsible', 'restriction', 'result', 'retaining', 'right', 'rightofway', 'rights', 'rigid', 'rise', 'road', 'roadculverts', 'roads', 'rock', 'room', 'root', 'roots', 'rounded', 'rp', 'running', 'rural', 'safe', 'safety', 'said', 'sale', 'sales', 'salt', 'sanitation', 'satisfaction', 'satisfied', 'save', 'scale', 'screen', 'seabed', 'search', 'searching', 'section', 'sections', 'secure', 'secured', 'security', 'see', 'sees', 'semi', 'semidetached', 'separate', 'separating', 'separation', 'servants', 'serve', 'service', 'services', 'serving', 'set', 'setback', 'setting', 'sewer', 'sewerage', 'sewers', 'shaft', 'shall', 'share', 'shares', 'show', 'showing', 'shown', 'shrubs', 'sia', 'sides', 'signs', 'similar', 'single', 'site', 'six', 'size', 'skill', 'sky', 'slope', 'smatv', 'soil', 'sold', 'sole', 'solely', 'solicit', 'solicitor', 'solicitors', 'sooner', 'space', 'spaces', 'special', 'specialist', 'specification', 'specified', 'specify', 'spoil', 'square', 'stability', 'stakeholder', 'standards', 'state', 'stated', 'steps', 'stippled', 'stipulated', 'storage', 'stored', 'stormwater', 'streamcourse', 'street', 'structural', 'structure', 'structures', 'sub', 'subclause', 'subclauses', 'subject', 'submission', 'submit', 'submitted', 'subsidence', 'subsidiary', 'substantial', 'substituted', 'substitution', 'successor', 'suffer', 'suffered', 'suitable', 'sum', 'sums', 'sunshade', 'supervising', 'supervisory', 'supplies', 'supply', 'support', 'supports', 'surcharge', 'surfaces', 'survive', 'sustainable', 'system', 'table', 'take', 'taken', 'taking', 'technical', 'temporary', 'tenancy', 'tenant', 'tenants', 'tenn', 'tenns', 'term', 'termination', 'terms', 'terraced', 'thedmc', 'thereafter', 'thereby', 'therein', 'thereof', 'thereon', 'thereto', 'thereunder', 'thereupon', 'thickness', 'third', 'three', 'throughout', 'tidy', 'time', 'times', 'together', 'tools', 'total', 'town', 'traffic', 'transaction', 'transactions', 'transfer', 'transplanting', 'transport', 'treated', 'treatment', 'tree', 'trees', 'trellis', 'trench', 'trust', 'trustee', 'tunnel', 'turfing', 'two', 'type', 'unconditional', 'unconditionally', 'underlet', 'underletting', 'underneath', 'undertaken', 'undertakes', 'undivided', 'uninterrupted', 'unit', 'units', 'unless', 'unloading', 'unrestricted', 'uphold', 'upkeep', 'upon', 'upwards', 'urns', 'use', 'used', 'user', 'using', 'utility', 'utilizing', 'v', 'vacated', 'valuable', 'valve', 'variation', 'varied', 'vary', 'vehicle', 'vehicles', 'vehicular', 'vested', 'vi', 'vicinity', 'view', 'viewing', 'vii', 'viii', 'visitors', 'void', 'walkway', 'wall', 'walls', 'warranty', 'washed', 'washing', 'waste', 'watchmen', 'watclunen', 'water', 'watercourse', 'waterway', 'waterworks', 'way', 'whatever', 'whatsoever', 'whereby', 'wherever', 'whether', 'whichever', 'whole', 'wholly', 'whollyowned', 'whose', 'width', 'wind', 'wing', 'wire', 'within', 'without', 'work', 'workmanlike', 'workmen', 'works', 'worth', 'writing', 'written', 'x', 'years', 'yellow']\n"
     ]
    }
   ],
   "source": [
    "# Fit a basic TFIDF Vectorizer and view the results\n",
    "from sklearn.feature_extraction.text import TfidfVectorizer\n",
    "\n",
    "tfidf_vect = TfidfVectorizer(analyzer=clean_text)\n",
    "X_tfidf = tfidf_vect.fit_transform(words)\n",
    "print(X_tfidf.shape)\n",
    "print(tfidf_vect.get_feature_names())"
   ]
  },
  {
   "cell_type": "code",
   "execution_count": 104,
   "id": "71c5f41f",
   "metadata": {},
   "outputs": [
    {
     "data": {
      "text/html": [
       "<div>\n",
       "<style scoped>\n",
       "    .dataframe tbody tr th:only-of-type {\n",
       "        vertical-align: middle;\n",
       "    }\n",
       "\n",
       "    .dataframe tbody tr th {\n",
       "        vertical-align: top;\n",
       "    }\n",
       "\n",
       "    .dataframe thead th {\n",
       "        text-align: right;\n",
       "    }\n",
       "</style>\n",
       "<table border=\"1\" class=\"dataframe\">\n",
       "  <thead>\n",
       "    <tr style=\"text-align: right;\">\n",
       "      <th></th>\n",
       "      <th>0</th>\n",
       "      <th>1</th>\n",
       "      <th>2</th>\n",
       "      <th>3</th>\n",
       "      <th>4</th>\n",
       "      <th>5</th>\n",
       "      <th>6</th>\n",
       "      <th>7</th>\n",
       "      <th>8</th>\n",
       "      <th>9</th>\n",
       "      <th>...</th>\n",
       "      <th>1319</th>\n",
       "      <th>1320</th>\n",
       "      <th>1321</th>\n",
       "      <th>1322</th>\n",
       "      <th>1323</th>\n",
       "      <th>1324</th>\n",
       "      <th>1325</th>\n",
       "      <th>1326</th>\n",
       "      <th>1327</th>\n",
       "      <th>1328</th>\n",
       "    </tr>\n",
       "  </thead>\n",
       "  <tbody>\n",
       "    <tr>\n",
       "      <th>0</th>\n",
       "      <td>0.0</td>\n",
       "      <td>0.0</td>\n",
       "      <td>0.0</td>\n",
       "      <td>0.0</td>\n",
       "      <td>0.0</td>\n",
       "      <td>0.0</td>\n",
       "      <td>0.0</td>\n",
       "      <td>0.0</td>\n",
       "      <td>0.0</td>\n",
       "      <td>0.0</td>\n",
       "      <td>...</td>\n",
       "      <td>0.0</td>\n",
       "      <td>0.0</td>\n",
       "      <td>0.0</td>\n",
       "      <td>0.0</td>\n",
       "      <td>0.0</td>\n",
       "      <td>0.0</td>\n",
       "      <td>0.0</td>\n",
       "      <td>0.0</td>\n",
       "      <td>0.0</td>\n",
       "      <td>0.0</td>\n",
       "    </tr>\n",
       "    <tr>\n",
       "      <th>1</th>\n",
       "      <td>0.0</td>\n",
       "      <td>0.0</td>\n",
       "      <td>0.0</td>\n",
       "      <td>0.0</td>\n",
       "      <td>0.0</td>\n",
       "      <td>0.0</td>\n",
       "      <td>0.0</td>\n",
       "      <td>0.0</td>\n",
       "      <td>0.0</td>\n",
       "      <td>0.0</td>\n",
       "      <td>...</td>\n",
       "      <td>0.0</td>\n",
       "      <td>0.0</td>\n",
       "      <td>0.0</td>\n",
       "      <td>0.0</td>\n",
       "      <td>0.0</td>\n",
       "      <td>0.0</td>\n",
       "      <td>0.0</td>\n",
       "      <td>0.0</td>\n",
       "      <td>0.0</td>\n",
       "      <td>0.0</td>\n",
       "    </tr>\n",
       "    <tr>\n",
       "      <th>2</th>\n",
       "      <td>0.0</td>\n",
       "      <td>0.0</td>\n",
       "      <td>0.0</td>\n",
       "      <td>0.0</td>\n",
       "      <td>0.0</td>\n",
       "      <td>0.0</td>\n",
       "      <td>0.0</td>\n",
       "      <td>0.0</td>\n",
       "      <td>0.0</td>\n",
       "      <td>0.0</td>\n",
       "      <td>...</td>\n",
       "      <td>0.0</td>\n",
       "      <td>0.0</td>\n",
       "      <td>0.0</td>\n",
       "      <td>0.0</td>\n",
       "      <td>0.0</td>\n",
       "      <td>0.0</td>\n",
       "      <td>0.0</td>\n",
       "      <td>0.0</td>\n",
       "      <td>0.0</td>\n",
       "      <td>0.0</td>\n",
       "    </tr>\n",
       "    <tr>\n",
       "      <th>3</th>\n",
       "      <td>0.0</td>\n",
       "      <td>0.0</td>\n",
       "      <td>0.0</td>\n",
       "      <td>0.0</td>\n",
       "      <td>0.0</td>\n",
       "      <td>0.0</td>\n",
       "      <td>0.0</td>\n",
       "      <td>0.0</td>\n",
       "      <td>0.0</td>\n",
       "      <td>0.0</td>\n",
       "      <td>...</td>\n",
       "      <td>0.0</td>\n",
       "      <td>0.0</td>\n",
       "      <td>0.0</td>\n",
       "      <td>0.0</td>\n",
       "      <td>0.0</td>\n",
       "      <td>0.0</td>\n",
       "      <td>0.0</td>\n",
       "      <td>0.0</td>\n",
       "      <td>0.0</td>\n",
       "      <td>0.0</td>\n",
       "    </tr>\n",
       "    <tr>\n",
       "      <th>4</th>\n",
       "      <td>0.0</td>\n",
       "      <td>0.0</td>\n",
       "      <td>0.0</td>\n",
       "      <td>0.0</td>\n",
       "      <td>0.0</td>\n",
       "      <td>0.0</td>\n",
       "      <td>0.0</td>\n",
       "      <td>0.0</td>\n",
       "      <td>0.0</td>\n",
       "      <td>0.0</td>\n",
       "      <td>...</td>\n",
       "      <td>0.0</td>\n",
       "      <td>0.0</td>\n",
       "      <td>0.0</td>\n",
       "      <td>0.0</td>\n",
       "      <td>0.0</td>\n",
       "      <td>0.0</td>\n",
       "      <td>0.0</td>\n",
       "      <td>0.0</td>\n",
       "      <td>0.0</td>\n",
       "      <td>0.0</td>\n",
       "    </tr>\n",
       "  </tbody>\n",
       "</table>\n",
       "<p>5 rows × 1329 columns</p>\n",
       "</div>"
      ],
      "text/plain": [
       "   0     1     2     3     4     5     6     7     8     9     ...  1319  \\\n",
       "0   0.0   0.0   0.0   0.0   0.0   0.0   0.0   0.0   0.0   0.0  ...   0.0   \n",
       "1   0.0   0.0   0.0   0.0   0.0   0.0   0.0   0.0   0.0   0.0  ...   0.0   \n",
       "2   0.0   0.0   0.0   0.0   0.0   0.0   0.0   0.0   0.0   0.0  ...   0.0   \n",
       "3   0.0   0.0   0.0   0.0   0.0   0.0   0.0   0.0   0.0   0.0  ...   0.0   \n",
       "4   0.0   0.0   0.0   0.0   0.0   0.0   0.0   0.0   0.0   0.0  ...   0.0   \n",
       "\n",
       "   1320  1321  1322  1323  1324  1325  1326  1327  1328  \n",
       "0   0.0   0.0   0.0   0.0   0.0   0.0   0.0   0.0   0.0  \n",
       "1   0.0   0.0   0.0   0.0   0.0   0.0   0.0   0.0   0.0  \n",
       "2   0.0   0.0   0.0   0.0   0.0   0.0   0.0   0.0   0.0  \n",
       "3   0.0   0.0   0.0   0.0   0.0   0.0   0.0   0.0   0.0  \n",
       "4   0.0   0.0   0.0   0.0   0.0   0.0   0.0   0.0   0.0  \n",
       "\n",
       "[5 rows x 1329 columns]"
      ]
     },
     "execution_count": 104,
     "metadata": {},
     "output_type": "execute_result"
    }
   ],
   "source": [
    "X_features = pd.DataFrame(X_tfidf.toarray())\n",
    "X_features.head()"
   ]
  },
  {
   "cell_type": "code",
   "execution_count": 77,
   "id": "def09dcd",
   "metadata": {},
   "outputs": [
    {
     "name": "stdout",
     "output_type": "stream",
     "text": [
      "                                                                                           RBL1203.txt\n",
      "0  Possession \\n\\n 7 \\n\\nSPECIAL CONDITIONS \\n\\n 1 Subject to payment of the balance of the premium...\n",
      "1                                     2 hereof and subject to the provisions of General \\nCondition No\n",
      "2  1 hereof possession of the lot shall be deemed to be given to \\nthe Purchaser on the date of thi...\n",
      "3  Acknowledgement of 2 a i The Purchaser acknowledges that as at the date of this \\nthe Encroachin...\n",
      "4  177 hereinafter referred to as RBL 177 \\nRP within the areas shown coloured pink hatched \\ngreen...\n"
     ]
    }
   ],
   "source": [
    "# split into sentences\n",
    "from nltk import sent_tokenize\n",
    "sentences = sent_tokenize(text)\n",
    "#print(sentences[0])\n",
    "\n",
    "# Convert to df\n",
    "df_sent = pd.DataFrame(sentences, columns = [filename])\n",
    "#print(df_sent)\n",
    "\n",
    "# Define a function to remove punctuation\n",
    "def remove_punct(text):\n",
    "    text = \"\".join([char for char in text if char not in string.punctuation])\n",
    "    return text\n",
    "\n",
    "df_sent['RBL1203.txt'] = df_sent['RBL1203.txt'].apply(lambda x: remove_punct(x))\n",
    "\n",
    "print(df_sent.head())"
   ]
  },
  {
   "cell_type": "code",
   "execution_count": 49,
   "id": "fc6a417a",
   "metadata": {},
   "outputs": [
    {
     "name": "stdout",
     "output_type": "stream",
     "text": [
      "['possess', '-', '7', '-', 'special', 'condit', '(', '1', ')', 'subject', 'to', 'payment', 'of', 'the', 'balanc', 'of', 'the', 'premium', 'as', 'provid', 'in', 'gener', 'condit', 'no', '.', '2', 'hereof', 'and', 'subject', 'to', 'the', 'provis', 'of', 'gener', 'condit', 'no', '.', '1', 'hereof', ',', 'possess', 'of', 'the', 'lot', 'shall', 'be', 'deem', 'to', 'be', 'given', 'to', 'the', 'purchas', 'on', 'the', 'date', 'of', 'thi', 'agreement', '.', 'acknowledg', 'of', '(', '2', ')', '(', 'a', ')', '(', 'i', ')', 'the', 'purchas', 'acknowledg', 'that', 'as', 'at', 'the', 'date', 'of', 'thi', 'the', 'encroach', 'agreement', ',', 'there', 'are', 'encroach', 'upon', 'the', 'lot', ':', 'structur', '(', 'i', ')', 'a', 'part', 'of', 'a']\n"
     ]
    }
   ],
   "source": [
    "# stemming of words\n",
    "from nltk.stem.porter import PorterStemmer\n",
    "porter = PorterStemmer()\n",
    "stemmed = [porter.stem(word) for word in tokens]\n",
    "print(stemmed[:100])"
   ]
  },
  {
   "cell_type": "code",
   "execution_count": null,
   "id": "0df8e770",
   "metadata": {},
   "outputs": [],
   "source": []
  }
 ],
 "metadata": {
  "kernelspec": {
   "display_name": "Python 3",
   "language": "python",
   "name": "python3"
  },
  "language_info": {
   "codemirror_mode": {
    "name": "ipython",
    "version": 3
   },
   "file_extension": ".py",
   "mimetype": "text/x-python",
   "name": "python",
   "nbconvert_exporter": "python",
   "pygments_lexer": "ipython3",
   "version": "3.8.8"
  }
 },
 "nbformat": 4,
 "nbformat_minor": 5
}
