{
 "cells": [
  {
   "cell_type": "markdown",
   "metadata": {},
   "source": [
    "This exercise will require you to pull some data from the Qunadl API. Qaundl is currently the most widely used aggregator of financial market data."
   ]
  },
  {
   "cell_type": "markdown",
   "metadata": {},
   "source": [
    "As a first step, you will need to register a free account on the http://www.quandl.com website."
   ]
  },
  {
   "cell_type": "markdown",
   "metadata": {},
   "source": [
    "After you register, you will be provided with a unique API key, that you should store:"
   ]
  },
  {
   "cell_type": "code",
   "execution_count": null,
   "metadata": {
    "collapsed": true,
    "jupyter": {
     "outputs_hidden": true
    }
   },
   "outputs": [],
   "source": [
    "# Store the API key as a string - according to PEP8, constants are always named in all upper case\n",
    "API_KEY = 'API_KEY'\n",
    "# IMPORTANT: Please ensure that you remove your API keys from the Jupyter Notebook before checking it into Github. \n",
    "# Your keys are private to you and should not be on a public repository."
   ]
  },
  {
   "cell_type": "markdown",
   "metadata": {},
   "source": [
    "Qaundl has a large number of data sources, but, unfortunately, most of them require a Premium subscription. Still, there are also a good number of free datasets."
   ]
  },
  {
   "cell_type": "markdown",
   "metadata": {},
   "source": [
    "For this mini project, we will focus on equities data from the Frankfurt Stock Exhange (FSE), which is available for free. We'll try and analyze the stock prices of a company called Carl Zeiss Meditec, which manufactures tools for eye examinations, as well as medical lasers for laser eye surgery: https://www.zeiss.com/meditec/int/home.html. The company is listed under the stock ticker AFX_X."
   ]
  },
  {
   "cell_type": "markdown",
   "metadata": {},
   "source": [
    "You can find the detailed Quandl API instructions here: https://docs.quandl.com/docs/time-series"
   ]
  },
  {
   "cell_type": "markdown",
   "metadata": {},
   "source": [
    "While there is a dedicated Python package for connecting to the Quandl API, we would prefer that you use the *requests* package, which can be easily downloaded using *pip* or *conda*. You can find the documentation for the package here: http://docs.python-requests.org/en/master/ "
   ]
  },
  {
   "cell_type": "markdown",
   "metadata": {},
   "source": [
    "Finally, apart from the *requests* package, you are encouraged to not use any third party Python packages, such as *pandas*, and instead focus on what's available in the Python Standard Library (the *collections* module might come in handy: https://pymotw.com/3/collections/ ).\n",
    "Also, since you won't have access to DataFrames, you are encouraged to us Python's native data structures - preferably dictionaries, though some questions can also be answered using lists.\n",
    "You can read more on these data structures here: https://docs.python.org/3/tutorial/datastructures.html"
   ]
  },
  {
   "cell_type": "markdown",
   "metadata": {},
   "source": [
    "Keep in mind that the JSON responses you will be getting from the API map almost one-to-one to Python's dictionaries. Unfortunately, they can be very nested, so make sure you read up on indexing dictionaries in the documentation provided above."
   ]
  },
  {
   "cell_type": "code",
   "execution_count": 2,
   "metadata": {
    "jupyter": {
     "outputs_hidden": true
    }
   },
   "outputs": [],
   "source": [
    "# First, import the relevant modules\n",
    "import requests, json\n"
   ]
  },
  {
   "cell_type": "markdown",
   "metadata": {},
   "source": [
    "Note: API's can change a bit with each version, for this exercise it is reccomended to use the \"V3\" quandl api at `https://www.quandl.com/api/v3/`"
   ]
  },
  {
   "cell_type": "code",
   "execution_count": 3,
   "metadata": {
    "jupyter": {
     "outputs_hidden": true
    }
   },
   "outputs": [
    {
     "data": {
      "text/plain": [
       "{'dataset': {'id': 45283708,\n",
       "  'dataset_code': '58538',\n",
       "  'database_code': 'HKEX',\n",
       "  'name': 'Ub#hsi Rp2103c (58538)',\n",
       "  'description': 'Stock Prices for Ub#hsi Rp2103c from the Hong Kong Stock Exchange. Currency: HKD',\n",
       "  'refreshed_at': '2020-10-12T14:01:09.397Z',\n",
       "  'newest_available_date': '2020-10-12',\n",
       "  'oldest_available_date': '2018-12-12',\n",
       "  'column_names': ['Date',\n",
       "   'Nominal Price',\n",
       "   'Net Change',\n",
       "   'Change (%)',\n",
       "   'Bid',\n",
       "   'Ask',\n",
       "   'P/E(x)',\n",
       "   'High',\n",
       "   'Low',\n",
       "   'Previous Close',\n",
       "   'Share Volume (000)',\n",
       "   'Turnover (000)',\n",
       "   'Lot Size'],\n",
       "  'frequency': 'daily',\n",
       "  'type': 'Time Series',\n",
       "  'premium': False,\n",
       "  'limit': 1,\n",
       "  'transform': None,\n",
       "  'column_index': None,\n",
       "  'start_date': '2018-12-12',\n",
       "  'end_date': '2020-10-12',\n",
       "  'data': [['2020-10-12',\n",
       "    0.015,\n",
       "    None,\n",
       "    None,\n",
       "    0.014,\n",
       "    0.015,\n",
       "    None,\n",
       "    0.034,\n",
       "    0.011,\n",
       "    0.045,\n",
       "    18300.0,\n",
       "    360.0,\n",
       "    None]],\n",
       "  'collapse': None,\n",
       "  'order': None,\n",
       "  'database_id': 5895}}"
      ]
     },
     "execution_count": 3,
     "metadata": {},
     "output_type": "execute_result"
    }
   ],
   "source": [
    "# Now, call the Quandl API and pull out a small sample of the data (only one day) to get a glimpse\n",
    "# into the JSON structure that will be returned\n",
    "\n",
    "# NOTE: Frankfurt Stock Exhange (FSE) dataset not longer available for free access, used alternative data.\n",
    "\n",
    "url = 'https://www.quandl.com/api/v3/datasets/HKEX/58538.json?rows=1&api_key=API_KEY'\n",
    "r = requests.get(url)\n",
    "r.json()\n"
   ]
  },
  {
   "cell_type": "code",
   "execution_count": 4,
   "metadata": {
    "jupyter": {
     "outputs_hidden": true
    }
   },
   "outputs": [],
   "source": [
    "# Inspect the JSON structure of the object you created, and take note of how nested it is,\n",
    "# as well as the overall structure\n"
   ]
  },
  {
   "cell_type": "markdown",
   "metadata": {},
   "source": [
    "These are your tasks for this mini project:\n",
    "\n",
    "1. Collect data from the Franfurt Stock Exchange, for the ticker AFX_X, for the whole year 2017 (keep in mind that the date format is YYYY-MM-DD).\n",
    "2. Convert the returned JSON object into a Python dictionary.\n",
    "3. Calculate what the highest and lowest opening prices were for the stock in this period.\n",
    "4. What was the largest change in any one day (based on High and Low price)?\n",
    "5. What was the largest change between any two days (based on Closing Price)?\n",
    "6. What was the average daily trading volume during this year?\n",
    "7. (Optional) What was the median trading volume during this year. (Note: you may need to implement your own function for calculating the median.)"
   ]
  },
  {
   "cell_type": "code",
   "execution_count": 5,
   "metadata": {
    "jupyter": {
     "outputs_hidden": true
    }
   },
   "outputs": [
    {
     "name": "stdout",
     "output_type": "stream",
     "text": [
      "16\n",
      "[['2020-10-12', 0.015, None, None, 0.014, 0.015, None, 0.034, 0.011, 0.045, 18300.0, 360.0, None], ['2020-10-09', 0.045, None, None, 0.044, 0.045, None, 0.045, 0.036, 0.043, 4350.0, 176.0, None], ['2020-10-08', 0.043, None, None, 0.041, 0.043, None, 0.049, 0.041, 0.037, 690.0, 33.0, None], ['2020-10-07', 0.037, None, None, 0.037, 0.038, None, 0.052, 0.037, 0.052, 1370.0, 56.0, None], ['2020-10-06', 0.052, None, None, 0.051, 0.052, None, 0.057, 0.051, 0.064, 2770.0, 147.0, None], ['2020-10-05', 0.064, None, None, 0.063, 0.064, None, 0.066, 0.059, 0.075, 3500.0, 221.0, None], ['2020-09-30', 0.075, None, None, 0.074, 0.075, None, 0.08, 0.063, 0.086, 3340.0, 244.0, None], ['2020-09-29', 0.086, None, None, 0.085, 0.087, None, 0.086, 0.086, 0.077, 200.0, 17.0, None], ['2020-09-28', 0.077, None, None, 0.075, 0.077, None, 0.084, 0.079, None, 260.0, 21.0, None], ['2020-01-21', 0.038, None, None, 0.034, 0.038, None, 0.07, 0.042, 0.081, 5720.0, 288.0, None], ['2020-01-20', 0.081, None, None, 0.077, 0.081, None, 0.087, 0.079, 0.079, 42432.0, 3576.0, None], ['2020-01-17', 0.079, None, None, 0.079, 0.082, None, 0.085, 0.072, 0.071, 17148.0, 1339.0, None], ['2020-01-16', 0.071, None, None, 0.07, 0.073, None, 0.079, 0.071, 0.079, 14364.0, 1098.0, None], ['2020-01-15', 0.079, None, None, 0.076, 0.079, None, 0.096, 0.075, 0.092, 12876.0, 1045.0, None], ['2020-01-14', 0.092, None, None, 0.089, 0.092, None, 0.11, 0.094, 0.095, 18980.0, 1964.0, None], ['2020-01-13', 0.095, None, None, 0.092, 0.095, None, 0.095, 0.081, None, 22414.0, 1972.0, None]]\n",
      "['Date', 'Nominal Price', 'Net Change', 'Change (%)', 'Bid', 'Ask', 'P/E(x)', 'High', 'Low', 'Previous Close', 'Share Volume (000)', 'Turnover (000)', 'Lot Size']\n"
     ]
    }
   ],
   "source": [
    "# NOTE: Frankfurt Stock Exhange (FSE) dataset not longer available for free access, used alternative data.\n",
    "\n",
    "# Collect data for whole year\n",
    "url = 'https://www.quandl.com/api/v3/datasets/HKEX/58538.json?start_date=2020-01-01&end_date=2020-12-31&api_key=API_KEY'\n",
    "\n",
    "# Convert to Python dictionary\n",
    "r = requests.get(url)\n",
    "rdata = r.json()\n",
    "col_names = rdata.get('dataset').get('column_names')\n",
    "data = rdata.get('dataset').get('data')\n",
    "\n",
    "#print(len(data))\n",
    "#print(data)\n",
    "#print(col_names)\n",
    "\n",
    "\n",
    "date_list = [i1 for i1,i2,i3,i4,i5,i6,i7,i8,i9,i10,i11,i12,i13 in data]\n",
    "price_list = [i2 for i1,i2,i3,i4,i5,i6,i7,i8,i9,i10,i11,i12,i13 in data]\n",
    "high_list = [i8 for i1,i2,i3,i4,i5,i6,i7,i8,i9,i10,i11,i12,i13 in data]\n",
    "low_list = [i9 for i1,i2,i3,i4,i5,i6,i7,i8,i9,i10,i11,i12,i13 in data]\n",
    "one_day_change_list = [i8-i9 for i1,i2,i3,i4,i5,i6,i7,i8,i9,i10,i11,i12,i13 in data]\n",
    "close_list = [i10 for i1,i2,i3,i4,i5,i6,i7,i8,i9,i10,i11,i12,i13 in data]\n",
    "share_vol_list = [i11 for i1,i2,i3,i4,i5,i6,i7,i8,i9,i10,i11,i12,i13 in data]\n",
    "\n",
    "\n",
    "\n"
   ]
  },
  {
   "cell_type": "code",
   "execution_count": 6,
   "metadata": {},
   "outputs": [
    {
     "name": "stdout",
     "output_type": "stream",
     "text": [
      "Highest opening price: 0.11\n",
      "Lowest opening price: 0.011\n",
      "Largest change in any one day: 0.028000000000000004\n",
      "Largest change in any two days: 0.015\n",
      "Average daily trading volume (000s): 10544.625\n",
      "Median daily trading volume (000s): 5035.0\n"
     ]
    }
   ],
   "source": [
    "# Calculate what the highest opening price for the stock in this period.\n",
    "print(\"Highest opening price: \"+str(max(high_list)))\n",
    "\n",
    "# Calculate what the lowest opening price for the stock in this period.\n",
    "print(\"Lowest opening price: \"+str(min(low_list)))\n",
    "\n",
    "# What was the largest change in any one day (based on High and Low price)?\n",
    "print(\"Largest change in any one day: \"+str(max(one_day_change_list)))\n",
    "\n",
    "# What was the largest change between any two days (based on Closing Price)?\n",
    "close_none = list(filter(None, close_list))\n",
    "close_none_list = [close_none[n]-close_none[n-1] for n in range(1,len(close_none))]\n",
    "print(\"Largest change in any two days: \"+str(max(close_none_list)))\n",
    "\n",
    "# What was the average daily trading volume during this year?\n",
    "from statistics import mean\n",
    "print(\"Average daily trading volume (000s): \"+str(mean(share_vol_list)))\n",
    "\n",
    "# What was the median trading volume during this year. (Note: you may need to implement your own function for calculating the median.)\n",
    "from statistics import median\n",
    "print(\"Median daily trading volume (000s): \"+str(median(share_vol_list)))\n"
   ]
  }
 ],
 "metadata": {
  "kernelspec": {
   "display_name": "Python 3",
   "language": "python",
   "name": "python3"
  },
  "language_info": {
   "codemirror_mode": {
    "name": "ipython",
    "version": 3
   },
   "file_extension": ".py",
   "mimetype": "text/x-python",
   "name": "python",
   "nbconvert_exporter": "python",
   "pygments_lexer": "ipython3",
   "version": "3.8.8"
  }
 },
 "nbformat": 4,
 "nbformat_minor": 4
}
